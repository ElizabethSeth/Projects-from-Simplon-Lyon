{
 "cells": [
  {
   "cell_type": "markdown",
   "metadata": {
    "application/vnd.databricks.v1+cell": {
     "cellMetadata": {},
     "inputWidgets": {},
     "nuid": "befae11e-73f8-494e-8e2c-7d797a175ee6",
     "showTitle": false,
     "tableResultSettingsMap": {},
     "title": ""
    }
   },
   "source": [
    "# Construire une  pipeline de transformation de donnée \n",
    "Ce notebook utilise l'architecture Medallion qui permet d'améliorer la qualité des données en les faisant passer à travers trois couches : Bronze (données brutes), Silver (données nettoyées) et Gold (données finales prêtes à l'utilisation).\n",
    "Architecture Medallion : https://drive.google.com/file/d/1Zn0mfRxOiXjwnwQX4cd0-MrW42zHjNvl/view?usp=sharing\n",
    "\n"
   ]
  },
  {
   "cell_type": "markdown",
   "metadata": {
    "application/vnd.databricks.v1+cell": {
     "cellMetadata": {},
     "inputWidgets": {},
     "nuid": "d82c88b5-70a2-46e6-8b2b-c7ce609eb9d7",
     "showTitle": false,
     "tableResultSettingsMap": {},
     "title": ""
    }
   },
   "source": [
    "### Data set from  databricks-datasets\n",
    "Table Bronze : Ingestion des données brutes\n",
    "À ce niveau, les données brutes des trajets en taxi sont ingérées, avec un contrôle basique de qualité des données pour s'assurer que les distances des trajets sont positives."
   ]
  },
  {
   "cell_type": "code",
   "execution_count": 0,
   "metadata": {
    "application/vnd.databricks.v1+cell": {
     "cellMetadata": {
      "byteLimit": 2048000,
      "rowLimit": 10000
     },
     "inputWidgets": {},
     "nuid": "32ed35f7-3e2b-47df-ad6a-4bc6c4cc6f05",
     "showTitle": false,
     "tableResultSettingsMap": {},
     "title": ""
    }
   },
   "outputs": [
    {
     "output_type": "display_data",
     "data": {
      "text/html": [
       "<style scoped>\n",
       "  .table-result-container {\n",
       "    max-height: 300px;\n",
       "    overflow: auto;\n",
       "  }\n",
       "  table, th, td {\n",
       "    border: 1px solid black;\n",
       "    border-collapse: collapse;\n",
       "  }\n",
       "  th, td {\n",
       "    padding: 5px;\n",
       "  }\n",
       "  th {\n",
       "    text-align: left;\n",
       "  }\n",
       "</style><div class='table-result-container'><table class='table-result'><thead style='background-color: white'><tr><th>path</th><th>name</th><th>size</th><th>modificationTime</th></tr></thead><tbody><tr><td>dbfs:/databricks-datasets/COVID/</td><td>COVID/</td><td>0</td><td>1732447790911</td></tr><tr><td>dbfs:/databricks-datasets/README.md</td><td>README.md</td><td>976</td><td>1561418533000</td></tr><tr><td>dbfs:/databricks-datasets/Rdatasets/</td><td>Rdatasets/</td><td>0</td><td>1732447790911</td></tr><tr><td>dbfs:/databricks-datasets/SPARK_README.md</td><td>SPARK_README.md</td><td>3359</td><td>1561418605000</td></tr><tr><td>dbfs:/databricks-datasets/adult/</td><td>adult/</td><td>0</td><td>1732447790911</td></tr><tr><td>dbfs:/databricks-datasets/airlines/</td><td>airlines/</td><td>0</td><td>1732447790912</td></tr><tr><td>dbfs:/databricks-datasets/amazon/</td><td>amazon/</td><td>0</td><td>1732447790912</td></tr><tr><td>dbfs:/databricks-datasets/asa/</td><td>asa/</td><td>0</td><td>1732447790912</td></tr><tr><td>dbfs:/databricks-datasets/atlas_higgs/</td><td>atlas_higgs/</td><td>0</td><td>1732447790912</td></tr><tr><td>dbfs:/databricks-datasets/bikeSharing/</td><td>bikeSharing/</td><td>0</td><td>1732447790912</td></tr><tr><td>dbfs:/databricks-datasets/cctvVideos/</td><td>cctvVideos/</td><td>0</td><td>1732447790912</td></tr><tr><td>dbfs:/databricks-datasets/credit-card-fraud/</td><td>credit-card-fraud/</td><td>0</td><td>1732447790912</td></tr><tr><td>dbfs:/databricks-datasets/cs100/</td><td>cs100/</td><td>0</td><td>1732447790912</td></tr><tr><td>dbfs:/databricks-datasets/cs110x/</td><td>cs110x/</td><td>0</td><td>1732447790912</td></tr><tr><td>dbfs:/databricks-datasets/cs190/</td><td>cs190/</td><td>0</td><td>1732447790912</td></tr><tr><td>dbfs:/databricks-datasets/data.gov/</td><td>data.gov/</td><td>0</td><td>1732447790912</td></tr><tr><td>dbfs:/databricks-datasets/definitive-guide/</td><td>definitive-guide/</td><td>0</td><td>1732447790912</td></tr><tr><td>dbfs:/databricks-datasets/delta-sharing/</td><td>delta-sharing/</td><td>0</td><td>1732447790912</td></tr><tr><td>dbfs:/databricks-datasets/flights/</td><td>flights/</td><td>0</td><td>1732447790912</td></tr><tr><td>dbfs:/databricks-datasets/flower_photos/</td><td>flower_photos/</td><td>0</td><td>1732447790912</td></tr><tr><td>dbfs:/databricks-datasets/flowers/</td><td>flowers/</td><td>0</td><td>1732447790912</td></tr><tr><td>dbfs:/databricks-datasets/genomics/</td><td>genomics/</td><td>0</td><td>1732447790912</td></tr><tr><td>dbfs:/databricks-datasets/hail/</td><td>hail/</td><td>0</td><td>1732447790912</td></tr><tr><td>dbfs:/databricks-datasets/identifying-campaign-effectiveness/</td><td>identifying-campaign-effectiveness/</td><td>0</td><td>1732447790912</td></tr><tr><td>dbfs:/databricks-datasets/iot/</td><td>iot/</td><td>0</td><td>1732447790912</td></tr><tr><td>dbfs:/databricks-datasets/iot-stream/</td><td>iot-stream/</td><td>0</td><td>1732447790912</td></tr><tr><td>dbfs:/databricks-datasets/learning-spark/</td><td>learning-spark/</td><td>0</td><td>1732447790912</td></tr><tr><td>dbfs:/databricks-datasets/learning-spark-v2/</td><td>learning-spark-v2/</td><td>0</td><td>1732447790912</td></tr><tr><td>dbfs:/databricks-datasets/lending-club-loan-stats/</td><td>lending-club-loan-stats/</td><td>0</td><td>1732447790912</td></tr><tr><td>dbfs:/databricks-datasets/med-images/</td><td>med-images/</td><td>0</td><td>1732447790912</td></tr><tr><td>dbfs:/databricks-datasets/media/</td><td>media/</td><td>0</td><td>1732447790912</td></tr><tr><td>dbfs:/databricks-datasets/mnist-digits/</td><td>mnist-digits/</td><td>0</td><td>1732447790912</td></tr><tr><td>dbfs:/databricks-datasets/news20.binary/</td><td>news20.binary/</td><td>0</td><td>1732447790912</td></tr><tr><td>dbfs:/databricks-datasets/nyctaxi/</td><td>nyctaxi/</td><td>0</td><td>1732447790912</td></tr><tr><td>dbfs:/databricks-datasets/nyctaxi-with-zipcodes/</td><td>nyctaxi-with-zipcodes/</td><td>0</td><td>1732447790912</td></tr><tr><td>dbfs:/databricks-datasets/online_retail/</td><td>online_retail/</td><td>0</td><td>1732447790912</td></tr><tr><td>dbfs:/databricks-datasets/overlap-join/</td><td>overlap-join/</td><td>0</td><td>1732447790912</td></tr><tr><td>dbfs:/databricks-datasets/power-plant/</td><td>power-plant/</td><td>0</td><td>1732447790912</td></tr><tr><td>dbfs:/databricks-datasets/retail-org/</td><td>retail-org/</td><td>0</td><td>1732447790912</td></tr><tr><td>dbfs:/databricks-datasets/rwe/</td><td>rwe/</td><td>0</td><td>1732447790912</td></tr><tr><td>dbfs:/databricks-datasets/sai-summit-2019-sf/</td><td>sai-summit-2019-sf/</td><td>0</td><td>1732447790912</td></tr><tr><td>dbfs:/databricks-datasets/sample_logs/</td><td>sample_logs/</td><td>0</td><td>1732447790912</td></tr><tr><td>dbfs:/databricks-datasets/samples/</td><td>samples/</td><td>0</td><td>1732447790912</td></tr><tr><td>dbfs:/databricks-datasets/sfo_customer_survey/</td><td>sfo_customer_survey/</td><td>0</td><td>1732447790912</td></tr><tr><td>dbfs:/databricks-datasets/sms_spam_collection/</td><td>sms_spam_collection/</td><td>0</td><td>1732447790912</td></tr><tr><td>dbfs:/databricks-datasets/songs/</td><td>songs/</td><td>0</td><td>1732447790912</td></tr><tr><td>dbfs:/databricks-datasets/structured-streaming/</td><td>structured-streaming/</td><td>0</td><td>1732447790912</td></tr><tr><td>dbfs:/databricks-datasets/timeseries/</td><td>timeseries/</td><td>0</td><td>1732447790912</td></tr><tr><td>dbfs:/databricks-datasets/tpch/</td><td>tpch/</td><td>0</td><td>1732447790912</td></tr><tr><td>dbfs:/databricks-datasets/travel_recommendations_realtime/</td><td>travel_recommendations_realtime/</td><td>0</td><td>1732447790912</td></tr><tr><td>dbfs:/databricks-datasets/warmup/</td><td>warmup/</td><td>0</td><td>1732447790912</td></tr><tr><td>dbfs:/databricks-datasets/weather/</td><td>weather/</td><td>0</td><td>1732447790912</td></tr><tr><td>dbfs:/databricks-datasets/wiki/</td><td>wiki/</td><td>0</td><td>1732447790912</td></tr><tr><td>dbfs:/databricks-datasets/wikipedia-datasets/</td><td>wikipedia-datasets/</td><td>0</td><td>1732447790912</td></tr><tr><td>dbfs:/databricks-datasets/wine-quality/</td><td>wine-quality/</td><td>0</td><td>1732447790912</td></tr></tbody></table></div>"
      ]
     },
     "metadata": {
      "application/vnd.databricks.v1+output": {
       "addedWidgets": {},
       "aggData": [],
       "aggError": "",
       "aggOverflow": false,
       "aggSchema": [],
       "aggSeriesLimitReached": false,
       "aggType": "",
       "arguments": {},
       "columnCustomDisplayInfos": {},
       "data": [
        [
         "dbfs:/databricks-datasets/COVID/",
         "COVID/",
         0,
         1732447790911
        ],
        [
         "dbfs:/databricks-datasets/README.md",
         "README.md",
         976,
         1561418533000
        ],
        [
         "dbfs:/databricks-datasets/Rdatasets/",
         "Rdatasets/",
         0,
         1732447790911
        ],
        [
         "dbfs:/databricks-datasets/SPARK_README.md",
         "SPARK_README.md",
         3359,
         1561418605000
        ],
        [
         "dbfs:/databricks-datasets/adult/",
         "adult/",
         0,
         1732447790911
        ],
        [
         "dbfs:/databricks-datasets/airlines/",
         "airlines/",
         0,
         1732447790912
        ],
        [
         "dbfs:/databricks-datasets/amazon/",
         "amazon/",
         0,
         1732447790912
        ],
        [
         "dbfs:/databricks-datasets/asa/",
         "asa/",
         0,
         1732447790912
        ],
        [
         "dbfs:/databricks-datasets/atlas_higgs/",
         "atlas_higgs/",
         0,
         1732447790912
        ],
        [
         "dbfs:/databricks-datasets/bikeSharing/",
         "bikeSharing/",
         0,
         1732447790912
        ],
        [
         "dbfs:/databricks-datasets/cctvVideos/",
         "cctvVideos/",
         0,
         1732447790912
        ],
        [
         "dbfs:/databricks-datasets/credit-card-fraud/",
         "credit-card-fraud/",
         0,
         1732447790912
        ],
        [
         "dbfs:/databricks-datasets/cs100/",
         "cs100/",
         0,
         1732447790912
        ],
        [
         "dbfs:/databricks-datasets/cs110x/",
         "cs110x/",
         0,
         1732447790912
        ],
        [
         "dbfs:/databricks-datasets/cs190/",
         "cs190/",
         0,
         1732447790912
        ],
        [
         "dbfs:/databricks-datasets/data.gov/",
         "data.gov/",
         0,
         1732447790912
        ],
        [
         "dbfs:/databricks-datasets/definitive-guide/",
         "definitive-guide/",
         0,
         1732447790912
        ],
        [
         "dbfs:/databricks-datasets/delta-sharing/",
         "delta-sharing/",
         0,
         1732447790912
        ],
        [
         "dbfs:/databricks-datasets/flights/",
         "flights/",
         0,
         1732447790912
        ],
        [
         "dbfs:/databricks-datasets/flower_photos/",
         "flower_photos/",
         0,
         1732447790912
        ],
        [
         "dbfs:/databricks-datasets/flowers/",
         "flowers/",
         0,
         1732447790912
        ],
        [
         "dbfs:/databricks-datasets/genomics/",
         "genomics/",
         0,
         1732447790912
        ],
        [
         "dbfs:/databricks-datasets/hail/",
         "hail/",
         0,
         1732447790912
        ],
        [
         "dbfs:/databricks-datasets/identifying-campaign-effectiveness/",
         "identifying-campaign-effectiveness/",
         0,
         1732447790912
        ],
        [
         "dbfs:/databricks-datasets/iot/",
         "iot/",
         0,
         1732447790912
        ],
        [
         "dbfs:/databricks-datasets/iot-stream/",
         "iot-stream/",
         0,
         1732447790912
        ],
        [
         "dbfs:/databricks-datasets/learning-spark/",
         "learning-spark/",
         0,
         1732447790912
        ],
        [
         "dbfs:/databricks-datasets/learning-spark-v2/",
         "learning-spark-v2/",
         0,
         1732447790912
        ],
        [
         "dbfs:/databricks-datasets/lending-club-loan-stats/",
         "lending-club-loan-stats/",
         0,
         1732447790912
        ],
        [
         "dbfs:/databricks-datasets/med-images/",
         "med-images/",
         0,
         1732447790912
        ],
        [
         "dbfs:/databricks-datasets/media/",
         "media/",
         0,
         1732447790912
        ],
        [
         "dbfs:/databricks-datasets/mnist-digits/",
         "mnist-digits/",
         0,
         1732447790912
        ],
        [
         "dbfs:/databricks-datasets/news20.binary/",
         "news20.binary/",
         0,
         1732447790912
        ],
        [
         "dbfs:/databricks-datasets/nyctaxi/",
         "nyctaxi/",
         0,
         1732447790912
        ],
        [
         "dbfs:/databricks-datasets/nyctaxi-with-zipcodes/",
         "nyctaxi-with-zipcodes/",
         0,
         1732447790912
        ],
        [
         "dbfs:/databricks-datasets/online_retail/",
         "online_retail/",
         0,
         1732447790912
        ],
        [
         "dbfs:/databricks-datasets/overlap-join/",
         "overlap-join/",
         0,
         1732447790912
        ],
        [
         "dbfs:/databricks-datasets/power-plant/",
         "power-plant/",
         0,
         1732447790912
        ],
        [
         "dbfs:/databricks-datasets/retail-org/",
         "retail-org/",
         0,
         1732447790912
        ],
        [
         "dbfs:/databricks-datasets/rwe/",
         "rwe/",
         0,
         1732447790912
        ],
        [
         "dbfs:/databricks-datasets/sai-summit-2019-sf/",
         "sai-summit-2019-sf/",
         0,
         1732447790912
        ],
        [
         "dbfs:/databricks-datasets/sample_logs/",
         "sample_logs/",
         0,
         1732447790912
        ],
        [
         "dbfs:/databricks-datasets/samples/",
         "samples/",
         0,
         1732447790912
        ],
        [
         "dbfs:/databricks-datasets/sfo_customer_survey/",
         "sfo_customer_survey/",
         0,
         1732447790912
        ],
        [
         "dbfs:/databricks-datasets/sms_spam_collection/",
         "sms_spam_collection/",
         0,
         1732447790912
        ],
        [
         "dbfs:/databricks-datasets/songs/",
         "songs/",
         0,
         1732447790912
        ],
        [
         "dbfs:/databricks-datasets/structured-streaming/",
         "structured-streaming/",
         0,
         1732447790912
        ],
        [
         "dbfs:/databricks-datasets/timeseries/",
         "timeseries/",
         0,
         1732447790912
        ],
        [
         "dbfs:/databricks-datasets/tpch/",
         "tpch/",
         0,
         1732447790912
        ],
        [
         "dbfs:/databricks-datasets/travel_recommendations_realtime/",
         "travel_recommendations_realtime/",
         0,
         1732447790912
        ],
        [
         "dbfs:/databricks-datasets/warmup/",
         "warmup/",
         0,
         1732447790912
        ],
        [
         "dbfs:/databricks-datasets/weather/",
         "weather/",
         0,
         1732447790912
        ],
        [
         "dbfs:/databricks-datasets/wiki/",
         "wiki/",
         0,
         1732447790912
        ],
        [
         "dbfs:/databricks-datasets/wikipedia-datasets/",
         "wikipedia-datasets/",
         0,
         1732447790912
        ],
        [
         "dbfs:/databricks-datasets/wine-quality/",
         "wine-quality/",
         0,
         1732447790912
        ]
       ],
       "datasetInfos": [],
       "dbfsResultPath": null,
       "isJsonSchema": true,
       "metadata": {
        "isDbfsCommandResult": false
       },
       "overflow": false,
       "plotOptions": {
        "customPlotOptions": {},
        "displayType": "table",
        "pivotAggregation": null,
        "pivotColumns": null,
        "xColumns": null,
        "yColumns": null
       },
       "removedWidgets": [],
       "schema": [
        {
         "metadata": "{}",
         "name": "path",
         "type": "\"string\""
        },
        {
         "metadata": "{}",
         "name": "name",
         "type": "\"string\""
        },
        {
         "metadata": "{}",
         "name": "size",
         "type": "\"long\""
        },
        {
         "metadata": "{}",
         "name": "modificationTime",
         "type": "\"long\""
        }
       ],
       "type": "table"
      }
     },
     "output_type": "display_data"
    }
   ],
   "source": [
    "%fs ls \"/databricks-datasets/\""
   ]
  },
  {
   "cell_type": "code",
   "execution_count": 0,
   "metadata": {
    "application/vnd.databricks.v1+cell": {
     "cellMetadata": {
      "byteLimit": 2048000,
      "rowLimit": 10000
     },
     "inputWidgets": {},
     "nuid": "f2fa0a81-67bb-45a7-bdd4-962fe885c7a4",
     "showTitle": false,
     "tableResultSettingsMap": {},
     "title": ""
    }
   },
   "outputs": [
    {
     "output_type": "display_data",
     "data": {
      "text/html": [
       "<style scoped>\n",
       "  .table-result-container {\n",
       "    max-height: 300px;\n",
       "    overflow: auto;\n",
       "  }\n",
       "  table, th, td {\n",
       "    border: 1px solid black;\n",
       "    border-collapse: collapse;\n",
       "  }\n",
       "  th, td {\n",
       "    padding: 5px;\n",
       "  }\n",
       "  th {\n",
       "    text-align: left;\n",
       "  }\n",
       "</style><div class='table-result-container'><table class='table-result'><thead style='background-color: white'><tr><th>path</th><th>name</th><th>size</th><th>modificationTime</th></tr></thead><tbody><tr><td>dbfs:/databricks-datasets/data.gov/README.md</td><td>README.md</td><td>400</td><td>1561422506000</td></tr><tr><td>dbfs:/databricks-datasets/data.gov/farmers_markets_geographic_data/</td><td>farmers_markets_geographic_data/</td><td>0</td><td>1732439308535</td></tr><tr><td>dbfs:/databricks-datasets/data.gov/irs_zip_code_data/</td><td>irs_zip_code_data/</td><td>0</td><td>1732439308535</td></tr></tbody></table></div>"
      ]
     },
     "metadata": {
      "application/vnd.databricks.v1+output": {
       "addedWidgets": {},
       "aggData": [],
       "aggError": "",
       "aggOverflow": false,
       "aggSchema": [],
       "aggSeriesLimitReached": false,
       "aggType": "",
       "arguments": {},
       "columnCustomDisplayInfos": {},
       "data": [
        [
         "dbfs:/databricks-datasets/data.gov/README.md",
         "README.md",
         400,
         1561422506000
        ],
        [
         "dbfs:/databricks-datasets/data.gov/farmers_markets_geographic_data/",
         "farmers_markets_geographic_data/",
         0,
         1732439308535
        ],
        [
         "dbfs:/databricks-datasets/data.gov/irs_zip_code_data/",
         "irs_zip_code_data/",
         0,
         1732439308535
        ]
       ],
       "datasetInfos": [],
       "dbfsResultPath": null,
       "isJsonSchema": true,
       "metadata": {
        "isDbfsCommandResult": false
       },
       "overflow": false,
       "plotOptions": {
        "customPlotOptions": {},
        "displayType": "table",
        "pivotAggregation": null,
        "pivotColumns": null,
        "xColumns": null,
        "yColumns": null
       },
       "removedWidgets": [],
       "schema": [
        {
         "metadata": "{}",
         "name": "path",
         "type": "\"string\""
        },
        {
         "metadata": "{}",
         "name": "name",
         "type": "\"string\""
        },
        {
         "metadata": "{}",
         "name": "size",
         "type": "\"long\""
        },
        {
         "metadata": "{}",
         "name": "modificationTime",
         "type": "\"long\""
        }
       ],
       "type": "table"
      }
     },
     "output_type": "display_data"
    }
   ],
   "source": [
    "%fs ls dbfs:/databricks-datasets/data.gov/"
   ]
  },
  {
   "cell_type": "markdown",
   "metadata": {
    "application/vnd.databricks.v1+cell": {
     "cellMetadata": {},
     "inputWidgets": {},
     "nuid": "09068e97-39e6-44c3-973c-35caf850f306",
     "showTitle": false,
     "tableResultSettingsMap": {},
     "title": ""
    }
   },
   "source": [
    "### Couche Bronze"
   ]
  },
  {
   "cell_type": "code",
   "execution_count": 0,
   "metadata": {
    "application/vnd.databricks.v1+cell": {
     "cellMetadata": {
      "byteLimit": 2048000,
      "rowLimit": 10000
     },
     "inputWidgets": {},
     "nuid": "ef19abdf-a795-4ec9-b5c0-a07aa83dfec4",
     "showTitle": false,
     "tableResultSettingsMap": {},
     "title": ""
    }
   },
   "outputs": [
    {
     "output_type": "execute_result",
     "data": {
      "text/plain": [
       "[FileInfo(path='dbfs:/databricks-datasets/data.gov/farmers_markets_geographic_data/data-001/market_data.csv', name='market_data.csv', size=2609523, modificationTime=1561422507000)]"
      ]
     },
     "execution_count": 1,
     "metadata": {},
     "output_type": "execute_result"
    }
   ],
   "source": [
    "dbutils.fs.ls(\"dbfs:/databricks-datasets/data.gov/farmers_markets_geographic_data/data-001/\")\n"
   ]
  },
  {
   "cell_type": "code",
   "execution_count": 0,
   "metadata": {
    "application/vnd.databricks.v1+cell": {
     "cellMetadata": {
      "byteLimit": 2048000,
      "rowLimit": 10000
     },
     "inputWidgets": {},
     "nuid": "da9dc13d-ffcc-4117-8419-104de4f0679b",
     "showTitle": false,
     "tableResultSettingsMap": {},
     "title": ""
    }
   },
   "outputs": [
    {
     "output_type": "stream",
     "name": "stdout",
     "output_type": "stream",
     "text": [
      "root\n |-- FMID: integer (nullable = true)\n |-- MarketName: string (nullable = true)\n |-- Website: string (nullable = true)\n |-- Facebook: string (nullable = true)\n |-- Twitter: string (nullable = true)\n |-- Youtube: string (nullable = true)\n |-- OtherMedia: string (nullable = true)\n |-- street: string (nullable = true)\n |-- city: string (nullable = true)\n |-- County: string (nullable = true)\n |-- State: string (nullable = true)\n |-- zip: string (nullable = true)\n |-- Season1Date: string (nullable = true)\n |-- Season1Time: string (nullable = true)\n |-- Season2Date: string (nullable = true)\n |-- Season2Time: string (nullable = true)\n |-- Season3Date: string (nullable = true)\n |-- Season3Time: string (nullable = true)\n |-- Season4Date: string (nullable = true)\n |-- Season4Time: string (nullable = true)\n |-- x: double (nullable = true)\n |-- y: double (nullable = true)\n |-- Location: string (nullable = true)\n |-- Credit: string (nullable = true)\n |-- WIC: string (nullable = true)\n |-- WICcash: string (nullable = true)\n |-- SFMNP: string (nullable = true)\n |-- SNAP: string (nullable = true)\n |-- Organic: string (nullable = true)\n |-- Bakedgoods: string (nullable = true)\n |-- Cheese: string (nullable = true)\n |-- Crafts: string (nullable = true)\n |-- Flowers: string (nullable = true)\n |-- Eggs: string (nullable = true)\n |-- Seafood: string (nullable = true)\n |-- Herbs: string (nullable = true)\n |-- Vegetables: string (nullable = true)\n |-- Honey: string (nullable = true)\n |-- Jams: string (nullable = true)\n |-- Maple: string (nullable = true)\n |-- Meat: string (nullable = true)\n |-- Nursery: string (nullable = true)\n |-- Nuts: string (nullable = true)\n |-- Plants: string (nullable = true)\n |-- Poultry: string (nullable = true)\n |-- Prepared: string (nullable = true)\n |-- Soap: string (nullable = true)\n |-- Trees: string (nullable = true)\n |-- Wine: string (nullable = true)\n |-- Coffee: string (nullable = true)\n |-- Beans: string (nullable = true)\n |-- Fruits: string (nullable = true)\n |-- Grains: string (nullable = true)\n |-- Juices: string (nullable = true)\n |-- Mushrooms: string (nullable = true)\n |-- PetFood: string (nullable = true)\n |-- Tofu: string (nullable = true)\n |-- WildHarvested: string (nullable = true)\n |-- updateTime: string (nullable = true)\n\n"
     ]
    }
   ],
   "source": [
    "file_path = \"dbfs:/databricks-datasets/data.gov/farmers_markets_geographic_data/data-001/market_data.csv\"\n",
    "market_data = spark.read.format(\"csv\").option(\"header\", \"true\").option(\"inferSchema\", \"true\").load(file_path)\n",
    "\n",
    "market_data.printSchema()"
   ]
  },
  {
   "cell_type": "code",
   "execution_count": 0,
   "metadata": {
    "application/vnd.databricks.v1+cell": {
     "cellMetadata": {
      "byteLimit": 2048000,
      "rowLimit": 10000
     },
     "inputWidgets": {},
     "nuid": "c379ae9f-70fd-46b7-a691-a7847318dd13",
     "showTitle": false,
     "tableResultSettingsMap": {},
     "title": ""
    }
   },
   "outputs": [
    {
     "output_type": "execute_result",
     "data": {
      "text/plain": [
       "<pyspark.sql.readwriter.DataFrameReader at 0x7fca30d105d0>"
      ]
     },
     "execution_count": 15,
     "metadata": {},
     "output_type": "execute_result"
    }
   ],
   "source": [
    "spark.read"
   ]
  },
  {
   "cell_type": "code",
   "execution_count": 0,
   "metadata": {
    "application/vnd.databricks.v1+cell": {
     "cellMetadata": {
      "byteLimit": 2048000,
      "rowLimit": 10000
     },
     "inputWidgets": {},
     "nuid": "dd87afd8-aa4b-4d84-ad73-6f382120f117",
     "showTitle": false,
     "tableResultSettingsMap": {},
     "title": ""
    }
   },
   "outputs": [],
   "source": [
    "%python\n",
    "df = spark.read \\\n",
    "  .option(\"header\", True) \\\n",
    "  .option(\"inferSchema\", True) \\\n",
    "  .csv(\"dbfs:/databricks-datasets/data.gov/farmers_markets_geographic_data/data-001/market_data.csv\")\n",
    "\n",
    "# display(df)\n"
   ]
  },
  {
   "cell_type": "code",
   "execution_count": 0,
   "metadata": {
    "application/vnd.databricks.v1+cell": {
     "cellMetadata": {
      "byteLimit": 2048000,
      "rowLimit": 10000
     },
     "inputWidgets": {},
     "nuid": "3a9b1d2c-7cbf-4cbe-90d2-aa60c25bce07",
     "showTitle": false,
     "tableResultSettingsMap": {},
     "title": ""
    }
   },
   "outputs": [],
   "source": [
    "bronze_path = \"/mnt/data/bronze/farmers_markets\"\n",
    "\n",
    "df.write.format(\"delta\") \\\n",
    "    .mode(\"overwrite\") \\\n",
    "    .option(\"overwriteSchema\", \"true\") \\\n",
    "    .save(bronze_path)"
   ]
  },
  {
   "cell_type": "markdown",
   "metadata": {
    "application/vnd.databricks.v1+cell": {
     "cellMetadata": {},
     "inputWidgets": {},
     "nuid": "7b9ece34-ed43-461b-a105-8b8a3d76e858",
     "showTitle": false,
     "tableResultSettingsMap": {},
     "title": ""
    }
   },
   "source": [
    "## Couche Silver"
   ]
  },
  {
   "cell_type": "code",
   "execution_count": 0,
   "metadata": {
    "application/vnd.databricks.v1+cell": {
     "cellMetadata": {
      "byteLimit": 2048000,
      "rowLimit": 10000
     },
     "inputWidgets": {},
     "nuid": "0954b4a6-de05-47e7-94be-234f30a3e291",
     "showTitle": false,
     "tableResultSettingsMap": {},
     "title": ""
    }
   },
   "outputs": [],
   "source": [
    "%python\n",
    "# Nettoyage des données et suppression de colonnes inutiles\n",
    "\n",
    "# Supprimer les colonnes inutiles\n",
    "columns_to_drop = [\n",
    "    \"Youtube\", \"Twitter\", \"OtherMedia\",\n",
    "    \"Season2Date\", \"Season2Time\", \n",
    "    \"Season3Date\", \"Season3Time\", \n",
    "    \"Season4Date\", \"Season4Time\"\n",
    "]\n",
    "df_cleaned = df.drop(*columns_to_drop)\n",
    "\n",
    "# Remplacer les valeurs nulles par des valeurs par défaut\n",
    "df_filled = df_cleaned.fillna({\n",
    "    \"MarketName\": \"Unknown\",\n",
    "    \"Website\": \"Unknown\",\n",
    "    \"Facebook\": \"Unknown\",\n",
    "    \"street\": \"Unknown\",\n",
    "    \"city\": \"Unknown\",\n",
    "    \"County\": \"Unknown\",\n",
    "    \"State\": \"Unknown\",\n",
    "    \"zip\": \"Unknown\",\n",
    "    \"Season1Date\": \"Unknown\",\n",
    "    \"Season1Time\": \"Unknown\",\n",
    "    \"Location\": \"Unknown\",\n",
    "    # Remplir les champs numériques avec 0\n",
    "    \"x\": 0.0,\n",
    "    \"y\": 0.0\n",
    "})\n",
    "\n",
    "# display(df_filled)\n"
   ]
  },
  {
   "cell_type": "code",
   "execution_count": 0,
   "metadata": {
    "application/vnd.databricks.v1+cell": {
     "cellMetadata": {
      "byteLimit": 2048000,
      "rowLimit": 10000
     },
     "inputWidgets": {},
     "nuid": "7383cbed-6238-42d6-b7d9-3aaeb183690f",
     "showTitle": false,
     "tableResultSettingsMap": {},
     "title": ""
    }
   },
   "outputs": [],
   "source": [
    "silver_path = \"/mnt/data/silver/farmers_markets\"\n",
    "df_filled.write.format(\"delta\").mode(\"overwrite\").save(silver_path)\n",
    "# display(df_filled)"
   ]
  },
  {
   "cell_type": "code",
   "execution_count": 0,
   "metadata": {
    "application/vnd.databricks.v1+cell": {
     "cellMetadata": {
      "byteLimit": 2048000,
      "rowLimit": 10000
     },
     "inputWidgets": {},
     "nuid": "131dcf30-0646-4b6f-9186-56466509b10a",
     "showTitle": false,
     "tableResultSettingsMap": {},
     "title": ""
    }
   },
   "outputs": [],
   "source": [
    "%python\n",
    "# Séparation des données en plusieurs tables\n",
    "\n",
    "# 1. Informations générales sur le marché\n",
    "market_info = df_filled[[\n",
    "    \"FMID\", \"MarketName\", \"Website\", \"Facebook\", \"street\", \"city\", \"County\", \n",
    "    \"State\", \"zip\", \"Location\"\n",
    "]]\n",
    "\n",
    "# 2. Coordonnées géographiques\n",
    "geo_info = df_filled[[\"FMID\", \"x\", \"y\"]]\n",
    "\n",
    "# 3. Informations sur la saison\n",
    "season_info = df_filled[[\"FMID\", \"Season1Date\", \"Season1Time\"]]\n",
    "\n",
    "# 4. Moyens de paiement acceptés\n",
    "payment_info = df_filled[[\"FMID\", \"Credit\", \"WIC\", \"WICcash\", \"SFMNP\", \"SNAP\"]]\n",
    "\n",
    "# 5. Produits proposés\n",
    "product_info = df_filled[[\n",
    "    \"FMID\", \"Organic\", \"Bakedgoods\", \"Cheese\", \"Crafts\", \"Flowers\", \"Eggs\", \n",
    "    \"Seafood\", \"Herbs\", \"Vegetables\", \"Honey\", \"Jams\", \"Maple\", \"Meat\", \n",
    "    \"Nursery\", \"Nuts\", \"Plants\", \"Poultry\", \"Prepared\", \"Soap\", \"Trees\", \n",
    "    \"Wine\", \"Coffee\", \"Beans\", \"Fruits\", \"Grains\", \"Juices\", \"Mushrooms\", \n",
    "    \"PetFood\", \"Tofu\", \"WildHarvested\"\n",
    "]]\n",
    "\n",
    "# 6. Méta-informations\n",
    "meta_info = df_filled[[\"FMID\", \"updateTime\"]]\n",
    "\n",
    "# display(market_info)\n",
    "# display(geo_info)\n",
    "# display(season_info)\n",
    "# display(payment_info)\n",
    "# display(product_info)\n",
    "# display(meta_info)"
   ]
  },
  {
   "cell_type": "markdown",
   "metadata": {
    "application/vnd.databricks.v1+cell": {
     "cellMetadata": {},
     "inputWidgets": {},
     "nuid": "97a85fab-0f0d-4454-85fa-9f5c6b30d201",
     "showTitle": false,
     "tableResultSettingsMap": {},
     "title": ""
    }
   },
   "source": [
    "## Couche Gold - Analyse et Modèle Analytique\n",
    "Dans la couche Gold, nous allons transformer les données pour répondre à des questions métier spécifiques. Voici quelques analyses que nous pouvons effectuer :\n",
    "\n",
    "Nombre de marchés par État\n",
    "Produits les plus proposés par les marchés\n",
    "Modes de paiement les plus acceptés"
   ]
  },
  {
   "cell_type": "code",
   "execution_count": 0,
   "metadata": {
    "application/vnd.databricks.v1+cell": {
     "cellMetadata": {
      "byteLimit": 2048000,
      "rowLimit": 10000
     },
     "inputWidgets": {},
     "nuid": "4ea2282f-f9c3-41b1-99ab-f1c8d07cc395",
     "showTitle": false,
     "tableResultSettingsMap": {},
     "title": ""
    }
   },
   "outputs": [],
   "source": [
    "from pyspark.sql.functions import col, count\n",
    "\n",
    "market_count_by_state = df_filled.groupBy('State').agg(count('FMID').alias('MarketCount'))\n",
    "gold_path_state = \"/mnt/data/gold/market_count_by_state\"\n",
    "market_count_by_state.write.format(\"delta\").mode(\"overwrite\").save(gold_path_state)\n",
    "\n",
    "product_columns = [col for col in df_filled.columns if col in [\n",
    "    \"Organic\", \"Bakedgoods\", \"Cheese\", \"Crafts\", \"Flowers\", \"Eggs\", \"Seafood\", \"Herbs\", \"Vegetables\",\n",
    "    \"Honey\", \"Jams\", \"Maple\", \"Meat\", \"Nursery\", \"Nuts\", \"Plants\", \"Poultry\", \"Prepared\", \"Soap\", \n",
    "    \"Trees\", \"Wine\", \"Coffee\", \"Beans\", \"Fruits\", \"Grains\", \"Juices\", \"Mushrooms\", \"PetFood\", \"Tofu\",\n",
    "    \"WildHarvested\"\n",
    "]]\n",
    "product_counts = []\n",
    "for product in product_columns:\n",
    "    count_product = df_filled.filter(col(product) == 'Y').count()\n",
    "    product_counts.append((product, count_product))\n",
    "product_counts_df = spark.createDataFrame(product_counts, ['Product', 'MarketCount'])\n",
    "gold_path_products = \"/mnt/data/gold/product_counts\"\n",
    "product_counts_df.write.format(\"delta\").mode(\"overwrite\").save(gold_path_products)\n",
    "\n",
    "payment_columns = [\"Credit\", \"WIC\", \"WICcash\", \"SFMNP\", \"SNAP\"]\n",
    "payment_counts = []\n",
    "for payment in payment_columns:\n",
    "    count_payment = df_filled.filter(col(payment) == 'Y').count()\n",
    "    payment_counts.append((payment, count_payment))\n",
    "payment_counts_df = spark.createDataFrame(payment_counts, ['PaymentType', 'MarketCount'])\n",
    "gold_path_payments = \"/mnt/data/gold/payment_counts\"\n",
    "payment_counts_df.write.format(\"delta\").mode(\"overwrite\").save(gold_path_payments)\n"
   ]
  },
  {
   "cell_type": "code",
   "execution_count": 0,
   "metadata": {
    "application/vnd.databricks.v1+cell": {
     "cellMetadata": {
      "byteLimit": 2048000,
      "rowLimit": 10000
     },
     "inputWidgets": {},
     "nuid": "b7f6510a-2e4c-40c9-b5ce-1c70cb02002d",
     "showTitle": false,
     "tableResultSettingsMap": {},
     "title": ""
    }
   },
   "outputs": [
    {
     "output_type": "stream",
     "name": "stdout",
     "output_type": "stream",
     "text": [
      "+--------------------+-----------+\n|               State|MarketCount|\n+--------------------+-----------+\n|                Utah|         41|\n|              Hawaii|         97|\n|           Minnesota|        189|\n|                Ohio|        321|\n|              Oregon|        171|\n|            Arkansas|        100|\n|               Texas|        205|\n|        North Dakota|         65|\n|        Pennsylvania|        303|\n|         Connecticut|        158|\n|            Nebraska|         97|\n|             Vermont|         97|\n|              Nevada|         39|\n|         Puerto Rico|         41|\n|          Washington|        169|\n|            Illinois|        324|\n|            Oklahoma|         69|\n|      Virgin Islands|          4|\n|             Unknown|          1|\n|District of Columbia|         35|\n+--------------------+-----------+\nonly showing top 20 rows\n\n"
     ]
    }
   ],
   "source": [
    "from pyspark.sql.functions import col, count\n",
    "\n",
    "market_count_by_state = market_info.groupBy('State').agg(count('FMID').alias('MarketCount'))\n",
    "\n",
    "market_count_by_state.show()\n",
    "\n",
    "gold_path_state = '/mnt/data/gold/market_count_by_state'\n",
    "market_count_by_state.write.format('delta').mode('overwrite').save(gold_path_state)\n"
   ]
  },
  {
   "cell_type": "code",
   "execution_count": 0,
   "metadata": {
    "application/vnd.databricks.v1+cell": {
     "cellMetadata": {
      "byteLimit": 2048000,
      "rowLimit": 10000
     },
     "inputWidgets": {},
     "nuid": "5c28b45b-6f71-4749-8768-c512639c46f0",
     "showTitle": false,
     "tableResultSettingsMap": {},
     "title": ""
    }
   },
   "outputs": [
    {
     "output_type": "stream",
     "name": "stdout",
     "output_type": "stream",
     "text": [
      "+----------+-----------+\n|   Product|MarketCount|\n+----------+-----------+\n|Vegetables|       5074|\n|Bakedgoods|       4572|\n|     Honey|       4226|\n|      Jams|       4194|\n|     Herbs|       4146|\n|    Fruits|       4028|\n|      Eggs|       3799|\n|   Flowers|       3616|\n|    Plants|       3555|\n|      Soap|       3425|\n|    Crafts|       3149|\n|  Prepared|       3144|\n|      Meat|       2838|\n|    Cheese|       2647|\n|   Poultry|       2286|\n|   Organic|       2149|\n|     Maple|       1623|\n|     Trees|       1528|\n|    Coffee|       1504|\n|      Nuts|       1493|\n+----------+-----------+\nonly showing top 20 rows\n\n"
     ]
    }
   ],
   "source": [
    "from pyspark.sql.functions import sum\n",
    "\n",
    "product_columns = product_info.columns[1:] \n",
    "\n",
    "product_counts = []\n",
    "for product in product_columns:\n",
    "    count_product = product_info.filter(col(product) == 'Y').count()\n",
    "    product_counts.append((product, count_product))\n",
    "\n",
    "product_counts_df = spark.createDataFrame(product_counts, ['Product', 'MarketCount'])\n",
    "\n",
    "product_counts_df.orderBy(col('MarketCount').desc()).show()\n",
    "\n",
    "gold_path_products = '/mnt/data/gold/product_counts'\n",
    "product_counts_df.write.format('delta').mode('overwrite').save(gold_path_products)\n"
   ]
  },
  {
   "cell_type": "code",
   "execution_count": 0,
   "metadata": {
    "application/vnd.databricks.v1+cell": {
     "cellMetadata": {
      "byteLimit": 2048000,
      "rowLimit": 10000
     },
     "inputWidgets": {},
     "nuid": "863446b7-0cf5-4795-9028-f84b47c3e832",
     "showTitle": false,
     "tableResultSettingsMap": {},
     "title": ""
    }
   },
   "outputs": [
    {
     "output_type": "stream",
     "name": "stdout",
     "output_type": "stream",
     "text": [
      "+-----------+-----------+\n|PaymentType|MarketCount|\n+-----------+-----------+\n|     Credit|       4341|\n|      SFMNP|       2567|\n|        WIC|       2459|\n|       SNAP|       2402|\n|    WICcash|       1204|\n+-----------+-----------+\n\n"
     ]
    }
   ],
   "source": [
    "payment_columns = payment_info.columns[1:]  \n",
    "\n",
    "payment_counts = []\n",
    "for payment in payment_columns:\n",
    "    count_payment = payment_info.filter(col(payment) == 'Y').count()\n",
    "    payment_counts.append((payment, count_payment))\n",
    "\n",
    "payment_counts_df = spark.createDataFrame(payment_counts, ['PaymentType', 'MarketCount'])\n",
    "\n",
    "payment_counts_df.orderBy(col('MarketCount').desc()).show()\n",
    "\n",
    "gold_path_payments = '/mnt/data/gold/payment_counts'\n",
    "payment_counts_df.write.format('delta').mode('overwrite').save(gold_path_payments)\n"
   ]
  },
  {
   "cell_type": "code",
   "execution_count": 0,
   "metadata": {
    "application/vnd.databricks.v1+cell": {
     "cellMetadata": {
      "byteLimit": 2048000,
      "rowLimit": 10000
     },
     "inputWidgets": {},
     "nuid": "35e6a0cc-e7c2-49cd-ab8a-9b838a394372",
     "showTitle": false,
     "tableResultSettingsMap": {},
     "title": ""
    }
   },
   "outputs": [
    {
     "output_type": "display_data",
     "data": {
      "image/png": "[encoded data removed]",
      "text/plain": [
       "<Figure size 1500x700 with 1 Axes>"
      ]
     },
     "metadata": {},
     "output_type": "display_data"
    }
   ],
   "source": [
    "market_count_pd = market_count_by_state.toPandas()\n",
    "\n",
    "import matplotlib.pyplot as plt\n",
    "\n",
    "plt.figure(figsize=(15,7))\n",
    "market_count_pd.sort_values('MarketCount', ascending=False, inplace=True)\n",
    "plt.bar(market_count_pd['State'], market_count_pd['MarketCount'])\n",
    "plt.title('Nombre de marchés fermiers par État')\n",
    "plt.xlabel('État')\n",
    "plt.ylabel('Nombre de marchés')\n",
    "plt.xticks(rotation=90)\n",
    "plt.show()\n"
   ]
  },
  {
   "cell_type": "code",
   "execution_count": 0,
   "metadata": {
    "application/vnd.databricks.v1+cell": {
     "cellMetadata": {
      "byteLimit": 2048000,
      "rowLimit": 10000
     },
     "inputWidgets": {},
     "nuid": "89191a2f-5b17-4f69-8117-b18502127314",
     "showTitle": false,
     "tableResultSettingsMap": {},
     "title": ""
    }
   },
   "outputs": [
    {
     "output_type": "display_data",
     "data": {
      "image/png": "[encoded data removed]",
      "text/plain": [
       "<Figure size 1500x700 with 1 Axes>"
      ]
     },
     "metadata": {},
     "output_type": "display_data"
    }
   ],
   "source": [
    "product_counts_pd = product_counts_df.toPandas()\n",
    "\n",
    "plt.figure(figsize=(15,7))\n",
    "product_counts_pd.sort_values('MarketCount', ascending=False, inplace=True)\n",
    "plt.bar(product_counts_pd['Product'], product_counts_pd['MarketCount'])\n",
    "plt.title('Produits les plus proposés par les marchés')\n",
    "plt.xlabel('Produit')\n",
    "plt.ylabel('Nombre de marchés')\n",
    "plt.xticks(rotation=90)\n",
    "plt.show()\n"
   ]
  },
  {
   "cell_type": "code",
   "execution_count": 0,
   "metadata": {
    "application/vnd.databricks.v1+cell": {
     "cellMetadata": {
      "byteLimit": 2048000,
      "rowLimit": 10000
     },
     "inputWidgets": {},
     "nuid": "ca0f9932-6390-46af-8194-6777cba84c7d",
     "showTitle": false,
     "tableResultSettingsMap": {},
     "title": ""
    }
   },
   "outputs": [
    {
     "output_type": "stream",
     "name": "stdout",
     "output_type": "stream",
     "text": [
      "+--------------------+-----------+\n|               State|MarketCount|\n+--------------------+-----------+\n|                Utah|         41|\n|              Hawaii|         97|\n|           Minnesota|        189|\n|                Ohio|        321|\n|              Oregon|        171|\n|            Arkansas|        100|\n|               Texas|        205|\n|        North Dakota|         65|\n|        Pennsylvania|        303|\n|         Connecticut|        158|\n|            Nebraska|         97|\n|             Vermont|         97|\n|              Nevada|         39|\n|         Puerto Rico|         41|\n|          Washington|        169|\n|            Illinois|        324|\n|            Oklahoma|         69|\n|      Virgin Islands|          4|\n|             Unknown|          1|\n|District of Columbia|         35|\n+--------------------+-----------+\nonly showing top 20 rows\n\n+----------+-----------+\n|   Product|MarketCount|\n+----------+-----------+\n|   Organic|       2149|\n|Bakedgoods|       4572|\n|    Cheese|       2647|\n|    Crafts|       3149|\n|   Flowers|       3616|\n|      Eggs|       3799|\n|   Seafood|       1267|\n|     Herbs|       4146|\n|Vegetables|       5074|\n|     Honey|       4226|\n|      Jams|       4194|\n|     Maple|       1623|\n|      Meat|       2838|\n|   Nursery|        408|\n|      Nuts|       1493|\n|    Plants|       3555|\n|   Poultry|       2286|\n|  Prepared|       3144|\n|      Soap|       3425|\n|     Trees|       1528|\n+----------+-----------+\nonly showing top 20 rows\n\n+-----------+-----------+\n|PaymentType|MarketCount|\n+-----------+-----------+\n|    WICcash|       1204|\n|     Credit|       4341|\n|      SFMNP|       2567|\n|       SNAP|       2402|\n|        WIC|       2459|\n+-----------+-----------+\n\n"
     ]
    }
   ],
   "source": [
    "\n",
    "gold_state_data = spark.read.format(\"delta\").load(gold_path_state)\n",
    "gold_state_data.show()\n",
    "\n",
    "gold_products_data = spark.read.format(\"delta\").load(gold_path_products)\n",
    "gold_products_data.show()\n",
    "\n",
    "gold_payments_data = spark.read.format(\"delta\").load(gold_path_payments)\n",
    "gold_payments_data.show()\n"
   ]
  },
  {
   "cell_type": "code",
   "execution_count": 0,
   "metadata": {
    "application/vnd.databricks.v1+cell": {
     "cellMetadata": {
      "byteLimit": 2048000,
      "implicitDf": true,
      "rowLimit": 10000
     },
     "inputWidgets": {},
     "nuid": "19bfcd69-d36b-480d-967a-d77a4f6b7907",
     "showTitle": false,
     "tableResultSettingsMap": {},
     "title": ""
    }
   },
   "outputs": [
    {
     "output_type": "display_data",
     "data": {
      "text/html": [
       "<style scoped>\n",
       "  .table-result-container {\n",
       "    max-height: 300px;\n",
       "    overflow: auto;\n",
       "  }\n",
       "  table, th, td {\n",
       "    border: 1px solid black;\n",
       "    border-collapse: collapse;\n",
       "  }\n",
       "  th, td {\n",
       "    padding: 5px;\n",
       "  }\n",
       "  th {\n",
       "    text-align: left;\n",
       "  }\n",
       "</style><div class='table-result-container'><table class='table-result'><thead style='background-color: white'><tr><th>MarketName</th><th>State</th><th>city</th><th>zip</th><th>Vegetables</th><th>Fruits</th><th>Honey</th><th>x</th><th>y</th></tr></thead><tbody><tr><td>100-Mile Market</td><td>Michigan</td><td>Kalamazoo</td><td>49007</td><td>Y</td><td>Y</td><td>Y</td><td>-85.57502</td><td>42.29596</td></tr><tr><td>106 S. Main Street Farmers Market</td><td>South Carolina</td><td>Six Mile</td><td>29682</td><td>N</td><td>N</td><td>N</td><td>-82.8187</td><td>34.8042</td></tr><tr><td>10th Steet Community Farmers Market</td><td>Missouri</td><td>Lamar </td><td>64759</td><td>Y</td><td>Y</td><td>Y</td><td>-94.2746191</td><td>37.495628</td></tr><tr><td>112st Madison Avenue</td><td>New York</td><td>New York</td><td>10029</td><td>Y</td><td>N</td><td>Y</td><td>-73.9493</td><td>40.7939</td></tr><tr><td>12 South Farmers Market</td><td>Tennessee</td><td>Nashville</td><td>37204</td><td>Y</td><td>Y</td><td>Y</td><td>-86.790709</td><td>36.11837</td></tr><tr><td>125th Street Fresh Connect Farmers' Market</td><td>New York</td><td>New York</td><td>10027</td><td>Y</td><td>Y</td><td>Y</td><td>-73.9482477</td><td>40.8089533</td></tr><tr><td>12th & Brandywine Urban Farm Market</td><td>Delaware</td><td>Wilmington</td><td>19801</td><td>Y</td><td>Y</td><td>N</td><td>-75.53446</td><td>39.742117</td></tr><tr><td>14&U Farmers' Market</td><td>District of Columbia</td><td>Washington</td><td>20009</td><td>Y</td><td>Y</td><td>Y</td><td>-77.0320505</td><td>38.9169984</td></tr><tr><td>175th Street Greenmarket</td><td>New York</td><td>New York</td><td>10033</td><td>Y</td><td>Y</td><td>N</td><td>-73.9378024</td><td>40.8459583</td></tr><tr><td>17th Ave Market</td><td>Minnesota</td><td>Minneapolis</td><td>55413</td><td>N</td><td>N</td><td>N</td><td>-93.2591</td><td>45.0044</td></tr></tbody></table></div>"
      ]
     },
     "metadata": {
      "application/vnd.databricks.v1+output": {
       "addedWidgets": {},
       "aggData": [],
       "aggError": "",
       "aggOverflow": false,
       "aggSchema": [],
       "aggSeriesLimitReached": false,
       "aggType": "",
       "arguments": {},
       "columnCustomDisplayInfos": {},
       "data": [
        [
         "100-Mile Market",
         "Michigan",
         "Kalamazoo",
         "49007",
         "Y",
         "Y",
         "Y",
         -85.57502,
         42.29596
        ],
        [
         "106 S. Main Street Farmers Market",
         "South Carolina",
         "Six Mile",
         "29682",
         "N",
         "N",
         "N",
         -82.8187,
         34.8042
        ],
        [
         "10th Steet Community Farmers Market",
         "Missouri",
         "Lamar ",
         "64759",
         "Y",
         "Y",
         "Y",
         -94.2746191,
         37.495628
        ],
        [
         "112st Madison Avenue",
         "New York",
         "New York",
         "10029",
         "Y",
         "N",
         "Y",
         -73.9493,
         40.7939
        ],
        [
         "12 South Farmers Market",
         "Tennessee",
         "Nashville",
         "37204",
         "Y",
         "Y",
         "Y",
         -86.790709,
         36.11837
        ],
        [
         "125th Street Fresh Connect Farmers' Market",
         "New York",
         "New York",
         "10027",
         "Y",
         "Y",
         "Y",
         -73.9482477,
         40.8089533
        ],
        [
         "12th & Brandywine Urban Farm Market",
         "Delaware",
         "Wilmington",
         "19801",
         "Y",
         "Y",
         "N",
         -75.53446,
         39.742117
        ],
        [
         "14&U Farmers' Market",
         "District of Columbia",
         "Washington",
         "20009",
         "Y",
         "Y",
         "Y",
         -77.0320505,
         38.9169984
        ],
        [
         "175th Street Greenmarket",
         "New York",
         "New York",
         "10033",
         "Y",
         "Y",
         "N",
         -73.9378024,
         40.8459583
        ],
        [
         "17th Ave Market",
         "Minnesota",
         "Minneapolis",
         "55413",
         "N",
         "N",
         "N",
         -93.2591,
         45.0044
        ]
       ],
       "datasetInfos": [],
       "dbfsResultPath": null,
       "isJsonSchema": true,
       "metadata": {
        "createTempViewForImplicitDf": true,
        "dataframeName": "_sqldf",
        "executionCount": 89
       },
       "overflow": false,
       "plotOptions": {
        "customPlotOptions": {},
        "displayType": "table",
        "pivotAggregation": null,
        "pivotColumns": null,
        "xColumns": null,
        "yColumns": null
       },
       "removedWidgets": [],
       "schema": [
        {
         "metadata": "{}",
         "name": "MarketName",
         "type": "\"string\""
        },
        {
         "metadata": "{}",
         "name": "State",
         "type": "\"string\""
        },
        {
         "metadata": "{}",
         "name": "city",
         "type": "\"string\""
        },
        {
         "metadata": "{}",
         "name": "zip",
         "type": "\"string\""
        },
        {
         "metadata": "{}",
         "name": "Vegetables",
         "type": "\"string\""
        },
        {
         "metadata": "{}",
         "name": "Fruits",
         "type": "\"string\""
        },
        {
         "metadata": "{}",
         "name": "Honey",
         "type": "\"string\""
        },
        {
         "metadata": "{}",
         "name": "x",
         "type": "\"double\""
        },
        {
         "metadata": "{}",
         "name": "y",
         "type": "\"double\""
        }
       ],
       "type": "table"
      }
     },
     "output_type": "display_data"
    }
   ],
   "source": [
    "%sql\n",
    "SELECT * FROM delta.`/mnt/gold/cleaned_farmers_markets` LIMIT 10;\n"
   ]
  }
 ],
 "metadata": {
  "application/vnd.databricks.v1+notebook": {
   "dashboards": [],
   "environmentMetadata": {
    "base_environment": "",
    "client": "1"
   },
   "language": "python",
   "notebookMetadata": {
    "mostRecentlyExecutedCommandWithImplicitDF": {
     "commandId": 754115081967647,
     "dataframes": [
      "_sqldf"
     ]
    },
    "pythonIndentUnit": 2
   },
   "notebookName": "Data_pipline",
   "widgets": {}
  },
  "language_info": {
   "name": "python"
  }
 },
 "nbformat": 4,
 "nbformat_minor": 0
}
